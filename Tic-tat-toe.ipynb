{
 "cells": [
  {
   "cell_type": "code",
   "execution_count": 1,
   "metadata": {
    "collapsed": true
   },
   "outputs": [],
   "source": [
    "import numpy as np\n",
    "from itertools import cycle"
   ]
  },
  {
   "cell_type": "code",
   "execution_count": 2,
   "metadata": {
    "collapsed": true
   },
   "outputs": [],
   "source": [
    "def createBoard():\n",
    "    board = {}\n",
    "    for i in range(1,4,1):\n",
    "        for j in range(1,4,1):\n",
    "            board[(i,j)] = \" \"\n",
    "    return board\n",
    "        "
   ]
  },
  {
   "cell_type": "code",
   "execution_count": 3,
   "metadata": {
    "collapsed": true
   },
   "outputs": [],
   "source": [
    "def printBoard(board):\n",
    "    print '--'+str(1)+'-'+str(2)+'-'+str(3)+'-'\n",
    "    print str(1)+'|'+board[(1,1)]+'|'+board[(1,2)]+'|'+board[(1,3)]+'|'\n",
    "    print '--------'\n",
    "    print str(2)+'|'+board[(2,1)]+'|'+board[(2,2)]+'|'+board[(2,3)]+'|'\n",
    "    print '--------'\n",
    "    print str(3)+'|'+board[(3,1)]+'|'+board[(3,2)]+'|'+board[(3,3)]+'|'\n",
    "    print '--------'"
   ]
  },
  {
   "cell_type": "code",
   "execution_count": 4,
   "metadata": {
    "collapsed": true
   },
   "outputs": [],
   "source": [
    "def inputMove(board):\n",
    "    while True:\n",
    "        print 'Enter the row number:'\n",
    "        row_n = int(input())\n",
    "        print 'Enter the column number:'\n",
    "        col_n = int(input())\n",
    "        if checkValidMove(board,row_n,col_n):\n",
    "            break\n",
    "        else:\n",
    "            \"Invalid move. Please enter valid moves\"\n",
    "    return row_n, col_n"
   ]
  },
  {
   "cell_type": "code",
   "execution_count": 5,
   "metadata": {
    "collapsed": true
   },
   "outputs": [],
   "source": [
    "def checkValidMove(board,row_n,col_n):\n",
    "    if (row_n<4 and col_n<4) and board[(row_n,col_n)] == \" \":\n",
    "        return True"
   ]
  },
  {
   "cell_type": "code",
   "execution_count": 6,
   "metadata": {
    "collapsed": true
   },
   "outputs": [],
   "source": [
    "def naiveMove(board):\n",
    "    while True:\n",
    "        row_n = np.random.randint(low=1,high=4)\n",
    "        col_n = np.random.randint(low=1,high=4)\n",
    "        if checkValidMove(board,row_n,col_n):\n",
    "            break\n",
    "    return row_n, col_n"
   ]
  },
  {
   "cell_type": "code",
   "execution_count": 7,
   "metadata": {
    "collapsed": true
   },
   "outputs": [],
   "source": [
    "def updateBoard(board,player_n,row_n,col_n):\n",
    "    if player_n == 1:\n",
    "        board[(row_n,col_n)] = \"O\"\n",
    "    else:\n",
    "        board[(row_n,col_n)] = \"X\"\n",
    "    return board"
   ]
  },
  {
   "cell_type": "code",
   "execution_count": 8,
   "metadata": {
    "collapsed": true
   },
   "outputs": [],
   "source": [
    "def checkHorizontal(board,player_n):\n",
    "    if player_n == 1:\n",
    "        for i in range(1,4,1):\n",
    "            if board[(i,1)]=='O' and board[(i,2)]=='O' and board[(i,3)]=='O':\n",
    "                return True\n",
    "            \n",
    "def checkVertical(board,player_n):\n",
    "    if player_n == 1:\n",
    "        for j in range(1,4,1):\n",
    "            if board[(1,j)]=='O' and board[(2,j)]=='O' and board[(3,j)]=='O':\n",
    "                return True\n",
    "            \n",
    "def checkDiagonal(board,player_n):\n",
    "    if player_n == 1:\n",
    "        if (board[(1,1)] == 'O' and board[(2,2)]=='O' and board[(3,3)]=='O') or (board[(1,3)]=='O' and board[(2,2)]=='O' and board[(3,1)]=='O'):\n",
    "            return True\n",
    "        \n",
    "    "
   ]
  },
  {
   "cell_type": "code",
   "execution_count": 9,
   "metadata": {
    "collapsed": true
   },
   "outputs": [],
   "source": [
    "def if_Board_Completely_Filled(board):\n",
    "    count = 0\n",
    "    for i in range(1,4,1):\n",
    "        for j in range(1,4,1):\n",
    "            if board[(i,j)] != \" \":\n",
    "                count +=1\n",
    "    if count == 9:\n",
    "        return True\n",
    "    return False\n",
    "                    "
   ]
  },
  {
   "cell_type": "code",
   "execution_count": 10,
   "metadata": {
    "collapsed": true
   },
   "outputs": [],
   "source": [
    "def playGame(board,player_n):\n",
    "    if player_n ==1:\n",
    "        row_n, col_n = inputMove(board)\n",
    "    if player_n ==2:\n",
    "        row_n, col_n = naiveMove(board)\n",
    "    return row_n, col_n"
   ]
  },
  {
   "cell_type": "code",
   "execution_count": 12,
   "metadata": {},
   "outputs": [
    {
     "name": "stdout",
     "output_type": "stream",
     "text": [
      "Welcome to Tic Tac Toe! Player 1 goes first.\n",
      "--1-2-3-\n",
      "1| | | |\n",
      "--------\n",
      "2| | | |\n",
      "--------\n",
      "3| | | |\n",
      "--------\n",
      "Step 1\n",
      "Player 1\n",
      "Enter the row number:\n",
      "1\n",
      "Enter the column number:\n",
      "1\n",
      "--1-2-3-\n",
      "1|O| | |\n",
      "--------\n",
      "2| | | |\n",
      "--------\n",
      "3| | | |\n",
      "--------\n",
      "Step 2\n",
      "Player 2\n",
      "--1-2-3-\n",
      "1|O| | |\n",
      "--------\n",
      "2| | | |\n",
      "--------\n",
      "3| | |X|\n",
      "--------\n",
      "Step 3\n",
      "Player 1\n",
      "Enter the row number:\n",
      "2\n",
      "Enter the column number:\n",
      "1\n",
      "--1-2-3-\n",
      "1|O| | |\n",
      "--------\n",
      "2|O| | |\n",
      "--------\n",
      "3| | |X|\n",
      "--------\n",
      "Step 4\n",
      "Player 2\n",
      "--1-2-3-\n",
      "1|O| | |\n",
      "--------\n",
      "2|O| | |\n",
      "--------\n",
      "3| |X|X|\n",
      "--------\n",
      "Step 5\n",
      "Player 1\n",
      "Enter the row number:\n",
      "3\n",
      "Enter the column number:\n",
      "1\n",
      "--1-2-3-\n",
      "1|O| | |\n",
      "--------\n",
      "2|O| | |\n",
      "--------\n",
      "3|O|X|X|\n",
      "--------\n",
      "\n",
      "Player 1 win\n",
      "\n",
      "Want to play again, y/n?\n",
      "y\n",
      "Thanks for playing!\n",
      "--1-2-3-\n",
      "1| | | |\n",
      "--------\n",
      "2| | | |\n",
      "--------\n",
      "3| | | |\n",
      "--------\n",
      "Step 1\n",
      "Player 1\n",
      "Enter the row number:\n",
      "2\n",
      "Enter the column number:\n",
      "2\n",
      "--1-2-3-\n",
      "1| | | |\n",
      "--------\n",
      "2| |O| |\n",
      "--------\n",
      "3| | | |\n",
      "--------\n",
      "Step 2\n",
      "Player 2\n",
      "--1-2-3-\n",
      "1| | | |\n",
      "--------\n",
      "2|X|O| |\n",
      "--------\n",
      "3| | | |\n",
      "--------\n",
      "Step 3\n",
      "Player 1\n",
      "Enter the row number:\n",
      "1\n",
      "Enter the column number:\n",
      "1\n",
      "--1-2-3-\n",
      "1|O| | |\n",
      "--------\n",
      "2|X|O| |\n",
      "--------\n",
      "3| | | |\n",
      "--------\n",
      "Step 4\n",
      "Player 2\n",
      "--1-2-3-\n",
      "1|O| | |\n",
      "--------\n",
      "2|X|O| |\n",
      "--------\n",
      "3| | |X|\n",
      "--------\n",
      "Step 5\n",
      "Player 1\n",
      "Enter the row number:\n",
      "1\n",
      "Enter the column number:\n",
      "3\n",
      "--1-2-3-\n",
      "1|O| |O|\n",
      "--------\n",
      "2|X|O| |\n",
      "--------\n",
      "3| | |X|\n",
      "--------\n",
      "Step 6\n",
      "Player 2\n",
      "--1-2-3-\n",
      "1|O| |O|\n",
      "--------\n",
      "2|X|O|X|\n",
      "--------\n",
      "3| | |X|\n",
      "--------\n",
      "Step 7\n",
      "Player 1\n",
      "Enter the row number:\n",
      "1\n",
      "Enter the column number:\n",
      "2\n",
      "--1-2-3-\n",
      "1|O|O|O|\n",
      "--------\n",
      "2|X|O|X|\n",
      "--------\n",
      "3| | |X|\n",
      "--------\n",
      "\n",
      "Player 1 win\n",
      "\n",
      "Want to play again, y/n?\n",
      "n\n",
      "Thanks for playing!\n"
     ]
    }
   ],
   "source": [
    "print \"Welcome to Tic Tac Toe! Player 1 goes first.\"\n",
    "\n",
    "play = True\n",
    "while play:\n",
    "    count = 1\n",
    "    a = createBoard()\n",
    "    printBoard(a)\n",
    "    myIterator = cycle(range(1,3,1))\n",
    "    while True:\n",
    "        player_n = myIterator.next()\n",
    "        print \"Step %i\" %count\n",
    "        print 'Player '+str(player_n)\n",
    "        row_n, col_n = playGame(a,player_n)\n",
    "        a = updateBoard(a,player_n,row_n,col_n)\n",
    "        printBoard(a)\n",
    "        if checkHorizontal(a,player_n):\n",
    "            break\n",
    "        if checkVertical(a,player_n):\n",
    "            break\n",
    "        if checkDiagonal(a,player_n):\n",
    "            break\n",
    "        if if_Board_Completely_Filled(a):\n",
    "            break\n",
    "        count+=1\n",
    "    \n",
    "    print\n",
    "    if checkHorizontal(a,player_n) or checkVertical(a,player_n) or checkVertical(a,player_n):\n",
    "        print \"Player %i win\" %int(player_n)\n",
    "    elif if_Board_Completely_Filled(a):\n",
    "        print \"Tie\"\n",
    "    print\n",
    "    print(\"Want to play again, y/n?\")\n",
    "    if (raw_input()==\"n\"):\n",
    "        play = False\n",
    "    print(\"Thanks for playing!\")"
   ]
  },
  {
   "cell_type": "code",
   "execution_count": null,
   "metadata": {
    "collapsed": true
   },
   "outputs": [],
   "source": []
  }
 ],
 "metadata": {
  "anaconda-cloud": {},
  "kernelspec": {
   "display_name": "Python [default]",
   "language": "python",
   "name": "python2"
  },
  "language_info": {
   "codemirror_mode": {
    "name": "ipython",
    "version": 2
   },
   "file_extension": ".py",
   "mimetype": "text/x-python",
   "name": "python",
   "nbconvert_exporter": "python",
   "pygments_lexer": "ipython2",
   "version": "2.7.12"
  }
 },
 "nbformat": 4,
 "nbformat_minor": 2
}
