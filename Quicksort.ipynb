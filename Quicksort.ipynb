{
 "cells": [
  {
   "cell_type": "code",
   "execution_count": 1,
   "metadata": {},
   "outputs": [
    {
     "name": "stdout",
     "output_type": "stream",
     "text": [
      "9\n"
     ]
    }
   ],
   "source": [
    "# Example list\n",
    "l = [9,5,7,2,4,3,6,1,8]\n",
    "print len(l)"
   ]
  },
  {
   "cell_type": "code",
   "execution_count": 2,
   "metadata": {
    "collapsed": true
   },
   "outputs": [],
   "source": [
    "def sort2num(l):\n",
    "    # sort two numbers in a list in ascending order\n",
    "    assert len(l)==2, \"not length = 2\"\n",
    "    s = []\n",
    "    if l[0]>l[1]:\n",
    "        s.append(l[1])\n",
    "        s.append(l[0])\n",
    "    else:\n",
    "        s.append(l[0])\n",
    "        s.append(l[1])\n",
    "    return s"
   ]
  },
  {
   "cell_type": "code",
   "execution_count": 3,
   "metadata": {},
   "outputs": [
    {
     "name": "stdout",
     "output_type": "stream",
     "text": [
      "[1, 2]\n"
     ]
    }
   ],
   "source": [
    "a = [2,1]\n",
    "print sort2num(a)"
   ]
  },
  {
   "cell_type": "code",
   "execution_count": 4,
   "metadata": {
    "collapsed": true
   },
   "outputs": [],
   "source": [
    "def quicksort(l):\n",
    "    if len(l) == 0:\n",
    "        return None\n",
    "    elif len(l) == 1:\n",
    "        return list(l)\n",
    "    elif len(l) == 2:\n",
    "        return sort2num(l)\n",
    "    else:\n",
    "        mid_n = len(l)/2\n",
    "        left = []\n",
    "        right = []\n",
    "        for i in range(len(l)):\n",
    "            if l[i]<l[mid_n]:\n",
    "                left.append(l[i])\n",
    "            elif l[i]>l[mid_n]:\n",
    "                right.append(l[i])\n",
    "        left.append(l[mid_n])\n",
    "    return quicksort(left)+quicksort(right)\n",
    "    "
   ]
  },
  {
   "cell_type": "code",
   "execution_count": 5,
   "metadata": {},
   "outputs": [
    {
     "name": "stdout",
     "output_type": "stream",
     "text": [
      "[9, 5, 7, 2, 4, 3, 6, 1, 8]\n",
      "[1, 2, 3, 4, 5, 6, 7, 8, 9]\n"
     ]
    }
   ],
   "source": [
    "print l\n",
    "print quicksort(l)"
   ]
  }
 ],
 "metadata": {
  "kernelspec": {
   "display_name": "Python [default]",
   "language": "python",
   "name": "python2"
  },
  "language_info": {
   "codemirror_mode": {
    "name": "ipython",
    "version": 2
   },
   "file_extension": ".py",
   "mimetype": "text/x-python",
   "name": "python",
   "nbconvert_exporter": "python",
   "pygments_lexer": "ipython2",
   "version": "2.7.12"
  }
 },
 "nbformat": 4,
 "nbformat_minor": 2
}
